{
 "cells": [
  {
   "cell_type": "markdown",
   "metadata": {},
   "source": [
    "# CHAPTER 1 \n",
    "## 빠른 출발 : 스칼라 소개"
   ]
  },
  {
   "cell_type": "markdown",
   "metadata": {},
   "source": [
    "### 1.1 왜 스칼라인가?\n",
    "- JVM과 자바 스크립트 언어\n",
    "- 정적타입\n",
    "    타입 추론(type inference)을 사용해서 대부분의 귀찮고 불필요한 타입 표기를 생략한다.\n",
    "- 다중 패러다임\n",
    "    객체지향 프로그래밍 + 함수형 프로그래밍\n",
    "- 복잡한 타입 시스템\n",
    "    제네릭스(genetics)\n",
    "- 간결하고 우아하며 유연한 문법\n",
    "- 규모 확장성 - 아키텍쳐\n",
    "- ... 아직은 좀 추상적으로 들린다.\n",
    "\n",
    "> 나의 이유.\n",
    "1. 뛰어난 확장성\n",
    "2. 3년 뒤에는 모든 서비스에 머신러닝이 붙게 될것 ..\n",
    "3. 오래오래 개발자를 하기 위해 (중요함)\n"
   ]
  },
  {
   "cell_type": "markdown",
   "metadata": {},
   "source": [
    "### 1.2 스칼라 설치하기\n",
    "- 책에서는 sbt를 권장함. 나는 스터디 자체가 목적이므로 나중으로 미룸(사실 귀찮음)\n",
    "\n",
    "- 공부한 내용은 예쁘고, 쉽게 정리하기 위해 주피터 + 스칼라 + 깃헙을 이용함\n",
    "\n",
    "> 주피터 + 스칼라 연동 설치방법\n",
    "1. 파이썬 설치\n",
    "2. 아나콘다.(파이썬으로 만들어진 데이터사이언티스트 플랫폼, 주피터 홈에서 강력추천해서 함 써보기로함)\n",
    "https://www.continuum.io/\n",
    "3. 아나콘다 실행후. 주피터 실행.\n",
    "4. 주피터 -스칼라 연동\n",
    "https://github.com/alexarchambault/jupyter-scala\n",
    "설치\n",
    "curl -L -o jupyter-scala https://git.io/vrHhi && chmod +x jupyter-scala && ./jupyter-scala && rm -f jupyter-scala\n"
   ]
  },
  {
   "cell_type": "markdown",
   "metadata": {},
   "source": [
    "### 1.3 스칼라 맛보기\n",
    "소스 : https://github.com/deanwampler/prog-scala-2nd-ed-code-examples"
   ]
  },
  {
   "cell_type": "code",
   "execution_count": 33,
   "metadata": {
    "collapsed": false
   },
   "outputs": [
    {
     "data": {
      "text/plain": [
       "\u001b[36mbook\u001b[0m: \u001b[32mString\u001b[0m = \u001b[32m\" Programming Scala\"\u001b[0m"
      ]
     },
     "metadata": {},
     "output_type": "display_data"
    }
   ],
   "source": [
    "val book = \" Programming Scala\" // 불변(immutable)변수 선언"
   ]
  },
  {
   "cell_type": "code",
   "execution_count": 34,
   "metadata": {
    "collapsed": false
   },
   "outputs": [
    {
     "name": "stdout",
     "output_type": "stream",
     "text": [
      " Programming Scala"
     ]
    },
    {
     "data": {
      "text/plain": []
     },
     "metadata": {},
     "output_type": "display_data"
    }
   ],
   "source": [
    "print(book)"
   ]
  },
  {
   "cell_type": "code",
   "execution_count": 35,
   "metadata": {
    "collapsed": false
   },
   "outputs": [
    {
     "data": {
      "text/plain": [
       "defined \u001b[32mclass \u001b[36mUpper\u001b[0m"
      ]
     },
     "metadata": {},
     "output_type": "display_data"
    }
   ],
   "source": [
    "class Upper{\n",
    "    // def 메소드명(파라메터명:타입): 반환타입 (반환타입은 많은 경우 컴파일러가 추론할 수 있다.)\n",
    "    // String* 은 가변 길이 목록\n",
    "    // Seq는 일정한 순서로 반복 가능한 추상적 컬렉션이다.(??)\n",
    "    // Seq가 자바의 제네릭 타입과 마찬가지로 매개변수화한 타입 이라는 사실에 유의하라(????)\n",
    "    // Seq는 '어떤 것의 시퀀스'로 여기서는 문자열 시퀀스임\n",
    "    // 스칼라에서는 꺽쇠괄호([...])은 식별자이다.\n",
    "    def upper(strings : String*): Seq[String]={\n",
    "        // map은 함수 리터럴(익명함수, 람다, 클로저, 블록, 프록)을 인자로 받는다.\n",
    "        strings.map((s:String) => s.toUpperCase())\n",
    "    }\n",
    "}\n"
   ]
  },
  {
   "cell_type": "code",
   "execution_count": 36,
   "metadata": {
    "collapsed": false
   },
   "outputs": [
    {
     "data": {
      "text/plain": [
       "\u001b[36mup\u001b[0m: \u001b[32mUpper\u001b[0m = cmd34$$user$Upper@3fc68452"
      ]
     },
     "metadata": {},
     "output_type": "display_data"
    }
   ],
   "source": [
    "val up = new Upper"
   ]
  },
  {
   "cell_type": "code",
   "execution_count": 37,
   "metadata": {
    "collapsed": false
   },
   "outputs": [
    {
     "name": "stdout",
     "output_type": "stream",
     "text": [
      "ArrayBuffer(HELLO, WORLD)"
     ]
    },
    {
     "data": {
      "text/plain": []
     },
     "metadata": {},
     "output_type": "display_data"
    }
   ],
   "source": [
    "print(up.upper(\"Hello\",\"World\"))"
   ]
  },
  {
   "cell_type": "markdown",
   "metadata": {},
   "source": [
    "### 리펙토링"
   ]
  },
  {
   "cell_type": "code",
   "execution_count": 38,
   "metadata": {
    "collapsed": false
   },
   "outputs": [
    {
     "data": {
      "text/plain": [
       "defined \u001b[32mobject \u001b[36mUpper\u001b[0m"
      ]
     },
     "metadata": {},
     "output_type": "display_data"
    }
   ],
   "source": [
    "// 싱글턴 객체\n",
    "object Upper{\n",
    "    def upper(strings: String*) = strings.map(_.toUpperCase())\n",
    "}"
   ]
  },
  {
   "cell_type": "code",
   "execution_count": 39,
   "metadata": {
    "collapsed": false
   },
   "outputs": [
    {
     "name": "stdout",
     "output_type": "stream",
     "text": [
      "ArrayBuffer(HOLLO, WORLD)\n"
     ]
    },
    {
     "data": {
      "text/plain": []
     },
     "metadata": {},
     "output_type": "display_data"
    }
   ],
   "source": [
    "println(Upper.upper(\"Hollo\",\"World\"))"
   ]
  },
  {
   "cell_type": "markdown",
   "metadata": {},
   "source": [
    "### 한번더 리펙토릭\n",
    "- 스크립트를 컴파일 방식으로 바꾼다. 여기서는 패스하고 방법만 적음\n",
    "\n",
    "#### 실행방법\n",
    "> scala -cp Upper hello world\n"
   ]
  },
  {
   "cell_type": "code",
   "execution_count": 40,
   "metadata": {
    "collapsed": false
   },
   "outputs": [
    {
     "data": {
      "text/plain": [
       "defined \u001b[32mobject \u001b[36mUpper\u001b[0m"
      ]
     },
     "metadata": {},
     "output_type": "display_data"
    }
   ],
   "source": [
    "object Upper{\n",
    "    def main(args:Array[String]) = {\n",
    "        args.map(_.toUpperCase()).foreach(printf(\"%s \",_))\n",
    "        println(\"\")\n",
    "    }\n",
    "}"
   ]
  },
  {
   "cell_type": "code",
   "execution_count": 41,
   "metadata": {
    "collapsed": false
   },
   "outputs": [
    {
     "name": "stdout",
     "output_type": "stream",
     "text": [
      "HELLO WORLD \n"
     ]
    },
    {
     "data": {
      "text/plain": []
     },
     "metadata": {},
     "output_type": "display_data"
    }
   ],
   "source": [
    "Upper.main(Array(\"hello\", \"world\"))"
   ]
  },
  {
   "cell_type": "markdown",
   "metadata": {},
   "source": [
    "### 마지막으로 한번더 리팩토링"
   ]
  },
  {
   "cell_type": "code",
   "execution_count": 42,
   "metadata": {
    "collapsed": false
   },
   "outputs": [
    {
     "data": {
      "text/plain": [
       "defined \u001b[32mobject \u001b[36mUpper2\u001b[0m"
      ]
     },
     "metadata": {},
     "output_type": "display_data"
    }
   ],
   "source": [
    "object Upper2{\n",
    "    def main(args:Array[String]) = {\n",
    "        // foreach를 사용해서 반복하는 대신 컬렉션으로부터 문자열을 생성해주는 간편한 메소드 mkString 사용\n",
    "        val output = args.map(_.toUpperCase()).mkString(\" \")\n",
    "        println(output)\n",
    "    }\n",
    "}"
   ]
  },
  {
   "cell_type": "code",
   "execution_count": 43,
   "metadata": {
    "collapsed": false
   },
   "outputs": [
    {
     "name": "stdout",
     "output_type": "stream",
     "text": [
      "HELLO WORLD\n"
     ]
    },
    {
     "data": {
      "text/plain": []
     },
     "metadata": {},
     "output_type": "display_data"
    }
   ],
   "source": [
    "Upper2.main(Array(\"hello\", \"world\"))"
   ]
  },
  {
   "cell_type": "markdown",
   "metadata": {},
   "source": [
    "### 1.4 동시성 맛보기\n",
    "- 스칼라에서는 튼튼한 동시성 애플리케이션을 액터라는 직관적인 모델을 사용해서 작성할 수 있는 아카 API를 제공한다."
   ]
  },
  {
   "cell_type": "code",
   "execution_count": 44,
   "metadata": {
    "collapsed": false
   },
   "outputs": [
    {
     "data": {
      "text/plain": [
       "defined \u001b[32mclass \u001b[36mPoint\u001b[0m\n",
       "defined \u001b[32mclass \u001b[36mShape\u001b[0m\n",
       "defined \u001b[32mclass \u001b[36mCircle\u001b[0m\n",
       "defined \u001b[32mclass \u001b[36mRectangle\u001b[0m\n",
       "defined \u001b[32mclass \u001b[36mTriangle\u001b[0m"
      ]
     },
     "metadata": {},
     "output_type": "display_data"
    }
   ],
   "source": [
    "// 2차원 점을 표현하는 클래스 정의\n",
    "case class Point(x: Double = 0.0, y: Double = 0.0)                   \n",
    "\n",
    "// 기하학적 모양을 위한 추상 클래스 정의\n",
    "abstract class Shape() {                                             \n",
    "  /**\n",
    "   * Draw takes a function argument. Each shape will pass a stringized\n",
    "   * version of itself to this function, which does the \"drawing\".\n",
    "   */\n",
    "    \n",
    "// 모양을 렌더링 하는 draw 메서드 구현. 여기서는 문자열을 출력하기만 한다.\n",
    "  def draw(f: String => Unit): Unit = f(s\"draw: ${this.toString}\")  \n",
    "}\n",
    "\n",
    "// 중심과 반지름으로 원을 정의한다.\n",
    "case class Circle(center: Point, radius: Double) extends Shape      \n",
    "\n",
    "// 좌측 하단의 좌표 너비, 높이로 직사각형을 정의한다.\n",
    "// 편의상 사각형의 네 면이 x 축이나 y 축에 평행한다고 가정한다.\n",
    "case class Rectangle(lowerLeft: Point, height: Double, width: Double) \n",
    "      extends Shape\n",
    "\n",
    "// 3개의 점으로 삼각형을 정의한다.\n",
    "case class Triangle(point1: Point, point2: Point, point3: Point)     \n",
    "      extends Shape"
   ]
  },
  {
   "cell_type": "code",
   "execution_count": 45,
   "metadata": {
    "collapsed": false
   },
   "outputs": [
    {
     "data": {
      "text/plain": [
       "\u001b[36mp00\u001b[0m: \u001b[32mPoint\u001b[0m = \u001b[33mPoint\u001b[0m(\u001b[32m0.0\u001b[0m, \u001b[32m0.0\u001b[0m)"
      ]
     },
     "metadata": {},
     "output_type": "display_data"
    }
   ],
   "source": [
    "val p00 = new Point"
   ]
  },
  {
   "cell_type": "code",
   "execution_count": 46,
   "metadata": {
    "collapsed": false
   },
   "outputs": [
    {
     "data": {
      "text/plain": [
       "\u001b[36mp20\u001b[0m: \u001b[32mPoint\u001b[0m = \u001b[33mPoint\u001b[0m(\u001b[32m2.0\u001b[0m, \u001b[32m0.0\u001b[0m)"
      ]
     },
     "metadata": {},
     "output_type": "display_data"
    }
   ],
   "source": [
    "val p20 = new Point(2.0)"
   ]
  },
  {
   "cell_type": "code",
   "execution_count": 47,
   "metadata": {
    "collapsed": false
   },
   "outputs": [
    {
     "data": {
      "text/plain": [
       "\u001b[36mp20b\u001b[0m: \u001b[32mPoint\u001b[0m = \u001b[33mPoint\u001b[0m(\u001b[32m2.0\u001b[0m, \u001b[32m0.0\u001b[0m)"
      ]
     },
     "metadata": {},
     "output_type": "display_data"
    }
   ],
   "source": [
    "val p20b = new Point(2.0)"
   ]
  },
  {
   "cell_type": "code",
   "execution_count": 48,
   "metadata": {
    "collapsed": false
   },
   "outputs": [
    {
     "data": {
      "text/plain": [
       "\u001b[36mp02\u001b[0m: \u001b[32mPoint\u001b[0m = \u001b[33mPoint\u001b[0m(\u001b[32m0.0\u001b[0m, \u001b[32m2.0\u001b[0m)"
      ]
     },
     "metadata": {},
     "output_type": "display_data"
    }
   ],
   "source": [
    "val p02 = new Point(y=2.0)"
   ]
  },
  {
   "cell_type": "code",
   "execution_count": 49,
   "metadata": {
    "collapsed": false
   },
   "outputs": [
    {
     "data": {
      "text/plain": [
       "\u001b[36mres48\u001b[0m: \u001b[32mBoolean\u001b[0m = \u001b[32mfalse\u001b[0m"
      ]
     },
     "metadata": {},
     "output_type": "display_data"
    }
   ],
   "source": [
    "p00 == p20"
   ]
  },
  {
   "cell_type": "code",
   "execution_count": 50,
   "metadata": {
    "collapsed": false
   },
   "outputs": [
    {
     "data": {
      "text/plain": [
       "\u001b[36mres49\u001b[0m: \u001b[32mBoolean\u001b[0m = \u001b[32mtrue\u001b[0m"
      ]
     },
     "metadata": {},
     "output_type": "display_data"
    }
   ],
   "source": [
    "p20 == p20b"
   ]
  },
  {
   "cell_type": "markdown",
   "metadata": {},
   "source": [
    "### 액터\n",
    "- 라이브러리 다운 (http://akka.io/)"
   ]
  },
  {
   "cell_type": "code",
   "execution_count": 81,
   "metadata": {
    "collapsed": false
   },
   "outputs": [
    {
     "data": {
      "text/plain": []
     },
     "metadata": {},
     "output_type": "display_data"
    }
   ],
   "source": [
    "// akka actor 클래스 패스 추가\n",
    "classpath.addPath(\"/Users/daehanmingug/Library/Jupyter/kernels/akka/lib/akka/akka-actor_2.11-2.4.8.jar\")"
   ]
  },
  {
   "cell_type": "code",
   "execution_count": 82,
   "metadata": {
    "collapsed": false
   },
   "outputs": [
    {
     "data": {
      "text/plain": [
       "\u001b[32mimport \u001b[36makka.actor.Actor\u001b[0m"
      ]
     },
     "metadata": {},
     "output_type": "display_data"
    }
   ],
   "source": [
    "import akka.actor.Actor"
   ]
  },
  {
   "cell_type": "code",
   "execution_count": 83,
   "metadata": {
    "collapsed": false
   },
   "outputs": [
    {
     "data": {
      "text/plain": [
       "defined \u001b[32mobject \u001b[36mMessages\u001b[0m\n",
       "defined \u001b[32mclass \u001b[36mShapesDrawingActor\u001b[0m"
      ]
     },
     "metadata": {},
     "output_type": "display_data"
    }
   ],
   "source": [
    "// package progscala2.introscala.shapes\n",
    "object Messages {                                                    // <1>\n",
    "  object Exit                                                        // <2>\n",
    "  object Finished\n",
    "  case class Response(message: String)                               // <3>\n",
    "}\n",
    "                                       // <4>\n",
    "\n",
    "class ShapesDrawingActor extends Actor {                             // <5>\n",
    "  import Messages._                                                  // <6>\n",
    "\n",
    "  def receive = {                                                    // <7>\n",
    "    case s: Shape =>\n",
    "      s.draw(str => println(s\"ShapesDrawingActor: $str\"))\n",
    "      sender ! Response(s\"ShapesDrawingActor: $s drawn\")\n",
    "    case Exit =>\n",
    "      println(s\"ShapesDrawingActor: exiting...\")\n",
    "      sender ! Finished\n",
    "    case unexpected =>  // default. Equivalent to \"unexpected: Any\"\n",
    "      val response = Response(s\"ERROR: Unknown message: $unexpected\")\n",
    "      println(s\"ShapesDrawingActor: $response\")\n",
    "      sender ! response\n",
    "  }\n",
    "}"
   ]
  },
  {
   "cell_type": "code",
   "execution_count": 84,
   "metadata": {
    "collapsed": false
   },
   "outputs": [
    {
     "data": {
      "text/plain": []
     },
     "metadata": {},
     "output_type": "display_data"
    }
   ],
   "source": [
    "classpath.addPath(\"/Users/daehanmingug/Library/Jupyter/kernels/scala211/typesafe-config-2.10.1.jar\")"
   ]
  },
  {
   "cell_type": "code",
   "execution_count": 85,
   "metadata": {
    "collapsed": false
   },
   "outputs": [
    {
     "data": {
      "text/plain": [
       "\u001b[32mimport \u001b[36makka.actor.{Props, Actor, ActorRef, ActorSystem}\u001b[0m\n",
       "\u001b[32mimport \u001b[36mcom.typesafe.config.ConfigFactory\u001b[0m"
      ]
     },
     "metadata": {},
     "output_type": "display_data"
    }
   ],
   "source": [
    "import akka.actor.{Props, Actor, ActorRef, ActorSystem}\n",
    "import com.typesafe.config.ConfigFactory"
   ]
  },
  {
   "cell_type": "code",
   "execution_count": 86,
   "metadata": {
    "collapsed": false
   },
   "outputs": [
    {
     "data": {
      "text/plain": [
       "defined \u001b[32mobject \u001b[36mStart\u001b[0m\n",
       "defined \u001b[32mobject \u001b[36mShapesDrawingDriver\u001b[0m\n",
       "defined \u001b[32mclass \u001b[36mShapesDrawingDriver\u001b[0m"
      ]
     },
     "metadata": {},
     "output_type": "display_data"
    }
   ],
   "source": [
    "// Message used only in this file:\n",
    "// package progscala2.introscala.shapes\n",
    "\n",
    "private object Start                                                 // <1>\n",
    "\n",
    "object ShapesDrawingDriver {                                         // <2>\n",
    "  def main() {                                    // <3>\n",
    "    val system = ActorSystem(\"DrawingActorSystem\", ConfigFactory.load())\n",
    "    val drawer = system.actorOf(\n",
    "      Props(new ShapesDrawingActor), \"drawingActor\")\n",
    "    val driver = system.actorOf(\n",
    "       Props(new ShapesDrawingDriver(drawer)), \"drawingService\")\n",
    "    driver ! Start                                                   // <4>\n",
    "  }\n",
    "}\n",
    "\n",
    "class ShapesDrawingDriver(drawerActor: ActorRef) extends Actor {     // <5>\n",
    "  import Messages._\n",
    "\n",
    "  def receive = {\n",
    "    case Start =>                                                    // <6>\n",
    "      drawerActor ! Circle(Point(0.0,0.0), 1.0)\n",
    "      drawerActor ! Rectangle(Point(0.0,0.0), 2, 5)\n",
    "      drawerActor ! 3.14159\n",
    "      drawerActor ! Triangle(Point(0.0,0.0), Point(2.0,0.0), Point(1.0,2.0))\n",
    "      drawerActor ! Exit\n",
    "    case Finished =>                                                 // <7>\n",
    "      println(s\"ShapesDrawingDriver: cleaning up...\")\n",
    "      context.system.shutdown()\n",
    "    case response: Response =>                                       // <8>\n",
    "      println(\"ShapesDrawingDriver: Response = \" + response)\n",
    "    case unexpected =>                                               // <9>\n",
    "      println(\"ShapesDrawingDriver: ERROR: Received an unexpected message = \"\n",
    "        + unexpected)\n",
    "  }\n",
    "}"
   ]
  },
  {
   "cell_type": "code",
   "execution_count": 87,
   "metadata": {
    "collapsed": false
   },
   "outputs": [
    {
     "ename": "",
     "evalue": "",
     "output_type": "error",
     "traceback": [
      "java.lang.reflect.InvocationTargetException",
      "  sun.reflect.NativeMethodAccessorImpl.invoke0(Native Method)",
      "  sun.reflect.NativeMethodAccessorImpl.invoke(NativeMethodAccessorImpl.java:62)",
      "  sun.reflect.DelegatingMethodAccessorImpl.invoke(DelegatingMethodAccessorImpl.java:43)",
      "  java.lang.reflect.Method.invoke(Method.java:498)",
      "  ammonite.Interpreter$$anonfun$evaluate$1$$anonfun$apply$9.apply(Interpreter.scala:325)",
      "  ammonite.Interpreter$.evaluating(Interpreter.scala:291)",
      "  ammonite.Interpreter$$anonfun$evaluate$1.apply(Interpreter.scala:325)",
      "  ammonite.Interpreter$$anonfun$evaluate$1.apply(Interpreter.scala:324)",
      "  ammonite.InterpreterAction$$anon$1.apply(Interpreter.scala:57)",
      "  ammonite.InterpreterAction$$anonfun$flatMap$1.apply(Interpreter.scala:44)",
      "  ammonite.InterpreterAction$$anonfun$flatMap$1.apply(Interpreter.scala:43)",
      "  ammonite.InterpreterAction$$anon$1.apply(Interpreter.scala:57)",
      "  ammonite.Interpreter$$anon$5$$anonfun$flatMap$5.apply(Interpreter.scala:303)",
      "  ammonite.Interpreter$$anon$5$$anonfun$flatMap$5.apply(Interpreter.scala:302)",
      "  ammonite.InterpreterAction$$anon$1.apply(Interpreter.scala:57)",
      "  ammonite.InterpreterAction$$anonfun$flatMap$1$$anonfun$apply$3.apply(Interpreter.scala:44)",
      "  ammonite.InterpreterAction$$anonfun$flatMap$1$$anonfun$apply$3.apply(Interpreter.scala:44)",
      "  scala.util.Either$RightProjection.flatMap(Either.scala:522)",
      "  ammonite.InterpreterAction$$anonfun$flatMap$1.apply(Interpreter.scala:44)",
      "  ammonite.InterpreterAction$$anonfun$flatMap$1.apply(Interpreter.scala:43)",
      "  ammonite.InterpreterAction$$anon$1.apply(Interpreter.scala:57)",
      "  ammonite.InterpreterAction$$anonfun$flatMap$1$$anonfun$apply$3.apply(Interpreter.scala:44)",
      "  ammonite.InterpreterAction$$anonfun$flatMap$1$$anonfun$apply$3.apply(Interpreter.scala:44)",
      "  scala.util.Either$RightProjection.flatMap(Either.scala:522)",
      "  ammonite.InterpreterAction$$anonfun$flatMap$1.apply(Interpreter.scala:44)",
      "  ammonite.InterpreterAction$$anonfun$flatMap$1.apply(Interpreter.scala:43)",
      "  ammonite.InterpreterAction$$anon$1.apply(Interpreter.scala:57)",
      "  ammonite.InterpreterAction$$anonfun$flatMap$1$$anonfun$apply$3.apply(Interpreter.scala:44)",
      "  ammonite.InterpreterAction$$anonfun$flatMap$1$$anonfun$apply$3.apply(Interpreter.scala:44)",
      "  scala.util.Either$RightProjection.flatMap(Either.scala:522)",
      "  ammonite.InterpreterAction$$anonfun$flatMap$1.apply(Interpreter.scala:44)",
      "  ammonite.InterpreterAction$$anonfun$flatMap$1.apply(Interpreter.scala:43)",
      "  ammonite.InterpreterAction$$anon$1.apply(Interpreter.scala:57)",
      "  ammonite.InterpreterAction$$anonfun$flatMap$1$$anonfun$apply$3.apply(Interpreter.scala:44)",
      "  ammonite.InterpreterAction$$anonfun$flatMap$1$$anonfun$apply$3.apply(Interpreter.scala:44)",
      "  scala.util.Either$RightProjection.flatMap(Either.scala:522)",
      "  ammonite.InterpreterAction$$anonfun$flatMap$1.apply(Interpreter.scala:44)",
      "  ammonite.InterpreterAction$$anonfun$flatMap$1.apply(Interpreter.scala:43)",
      "  ammonite.InterpreterAction$$anon$1.apply(Interpreter.scala:57)",
      "  ammonite.InterpreterAction$$anonfun$flatMap$1$$anonfun$apply$3.apply(Interpreter.scala:44)",
      "  ammonite.InterpreterAction$$anonfun$flatMap$1$$anonfun$apply$3.apply(Interpreter.scala:44)",
      "  scala.util.Either$RightProjection.flatMap(Either.scala:522)",
      "  ammonite.InterpreterAction$$anonfun$flatMap$1.apply(Interpreter.scala:44)",
      "  ammonite.InterpreterAction$$anonfun$flatMap$1.apply(Interpreter.scala:43)",
      "  ammonite.InterpreterAction$$anon$1.apply(Interpreter.scala:57)",
      "  ammonite.InterpreterAction$$anonfun$flatMap$1$$anonfun$apply$3.apply(Interpreter.scala:44)",
      "  ammonite.InterpreterAction$$anonfun$flatMap$1$$anonfun$apply$3.apply(Interpreter.scala:44)",
      "  scala.util.Either$RightProjection.flatMap(Either.scala:522)",
      "  ammonite.InterpreterAction$$anonfun$flatMap$1.apply(Interpreter.scala:44)",
      "  ammonite.InterpreterAction$$anonfun$flatMap$1.apply(Interpreter.scala:43)",
      "  ammonite.InterpreterAction$$anon$1.apply(Interpreter.scala:57)",
      "  ammonite.InterpreterAction$$anonfun$flatMap$1$$anonfun$apply$3.apply(Interpreter.scala:44)",
      "  ammonite.InterpreterAction$$anonfun$flatMap$1$$anonfun$apply$3.apply(Interpreter.scala:44)",
      "  scala.util.Either$RightProjection.flatMap(Either.scala:522)",
      "  ammonite.InterpreterAction$$anonfun$flatMap$1.apply(Interpreter.scala:44)",
      "  ammonite.InterpreterAction$$anonfun$flatMap$1.apply(Interpreter.scala:43)",
      "  ammonite.InterpreterAction$$anon$1.apply(Interpreter.scala:57)",
      "  ammonite.Interpreter$$anon$4$$anonfun$flatMap$4.apply(Interpreter.scala:246)",
      "  ammonite.Interpreter$$anon$4$$anonfun$flatMap$4.apply(Interpreter.scala:240)",
      "  ammonite.InterpreterAction$$anon$1.apply(Interpreter.scala:57)",
      "  ammonite.Interpreter$$anon$3$$anonfun$flatMap$3$$anonfun$apply$7.apply(Interpreter.scala:232)",
      "  ammonite.Interpreter$$anon$3$$anonfun$flatMap$3$$anonfun$apply$7.apply(Interpreter.scala:232)",
      "  ammonite.util.Capture$$anonfun$ammonite$util$Capture$$withErr$1.apply(Capture.scala:46)",
      "  scala.util.DynamicVariable.withValue(DynamicVariable.scala:58)",
      "  scala.Console$.withErr(Console.scala:80)",
      "  ammonite.util.Capture$.ammonite$util$Capture$$withErr(Capture.scala:42)",
      "  ammonite.util.Capture$$anonfun$3.apply(Capture.scala:59)",
      "  ammonite.util.Capture$$anonfun$withOut$1.apply(Capture.scala:37)",
      "  scala.util.DynamicVariable.withValue(DynamicVariable.scala:58)",
      "  scala.Console$.withOut(Console.scala:53)",
      "  ammonite.util.Capture$.withOut(Capture.scala:33)",
      "  ammonite.util.Capture$.withOutAndErr(Capture.scala:59)",
      "  ammonite.util.Capture$.apply(Capture.scala:106)",
      "  ammonite.Interpreter$$anon$3$$anonfun$flatMap$3.apply(Interpreter.scala:232)",
      "  ammonite.Interpreter$$anon$3$$anonfun$flatMap$3.apply(Interpreter.scala:231)",
      "  ammonite.InterpreterAction$$anon$1.apply(Interpreter.scala:57)",
      "  ammonite.InterpreterAction$$anonfun$flatMap$1$$anonfun$apply$3.apply(Interpreter.scala:44)",
      "  ammonite.InterpreterAction$$anonfun$flatMap$1$$anonfun$apply$3.apply(Interpreter.scala:44)",
      "  scala.util.Either$RightProjection.flatMap(Either.scala:522)",
      "  ammonite.InterpreterAction$$anonfun$flatMap$1.apply(Interpreter.scala:44)",
      "  ammonite.InterpreterAction$$anonfun$flatMap$1.apply(Interpreter.scala:43)",
      "  ammonite.InterpreterAction$$anon$1.apply(Interpreter.scala:57)",
      "  ammonite.Interpreter$$anon$2$$anonfun$flatMap$2.apply(Interpreter.scala:205)",
      "  ammonite.Interpreter$$anon$2$$anonfun$flatMap$2.apply(Interpreter.scala:204)",
      "  ammonite.InterpreterAction$$anon$1.apply(Interpreter.scala:57)",
      "  ammonite.InterpreterAction$$anonfun$flatMap$1.apply(Interpreter.scala:44)",
      "  ammonite.InterpreterAction$$anonfun$flatMap$1.apply(Interpreter.scala:43)",
      "  ammonite.InterpreterAction$$anon$1.apply(Interpreter.scala:57)",
      "  ammonite.InterpreterAction$$anonfun$flatMap$1$$anonfun$apply$3.apply(Interpreter.scala:44)",
      "  ammonite.InterpreterAction$$anonfun$flatMap$1$$anonfun$apply$3.apply(Interpreter.scala:44)",
      "  scala.util.Either$RightProjection.flatMap(Either.scala:522)",
      "  ammonite.InterpreterAction$$anonfun$flatMap$1.apply(Interpreter.scala:44)",
      "  ammonite.InterpreterAction$$anonfun$flatMap$1.apply(Interpreter.scala:43)",
      "  ammonite.InterpreterAction$$anon$1.apply(Interpreter.scala:57)",
      "  jupyter.scala.ScalaInterpreter$$anon$2.interpret(ScalaInterpreter.scala:218)",
      "  jupyter.kernel.interpreter.InterpreterHandler$$anonfun$execute$1$$anonfun$apply$6.apply(InterpreterHandler.scala:118)",
      "  jupyter.kernel.interpreter.InterpreterHandler$$anonfun$execute$1$$anonfun$apply$6.apply(InterpreterHandler.scala:100)",
      "  jupyter.kernel.interpreter.InterpreterHandler$$anonfun$jupyter$kernel$interpreter$InterpreterHandler$$publishing$1$$anonfun$2.apply(InterpreterHandler.scala:68)",
      "  jupyter.kernel.interpreter.InterpreterHandler$$anonfun$jupyter$kernel$interpreter$InterpreterHandler$$publishing$1$$anonfun$2.apply(InterpreterHandler.scala:68)",
      "  scalaz.concurrent.Task$.Try(Task.scala:386)",
      "  scalaz.concurrent.Task$$anonfun$unsafeStart$1.apply(Task.scala:295)",
      "  scalaz.concurrent.Task$$anonfun$unsafeStart$1.apply(Task.scala:295)",
      "  scalaz.concurrent.Future$$anonfun$apply$15$$anon$4.call(Future.scala:380)",
      "  scalaz.concurrent.Future$$anonfun$apply$15$$anon$4.call(Future.scala:380)",
      "  java.util.concurrent.FutureTask.run(FutureTask.java:266)",
      "  java.util.concurrent.ThreadPoolExecutor.runWorker(ThreadPoolExecutor.java:1142)",
      "  java.util.concurrent.ThreadPoolExecutor$Worker.run(ThreadPoolExecutor.java:617)",
      "  java.lang.Thread.run(Thread.java:745)",
      "java.lang.NoSuchMethodError: com.typesafe.config.Config.getDuration(Ljava/lang/String;Ljava/util/concurrent/TimeUnit;)J (com.typesafe.config.Config.getDuration(Ljava/lang/String;Ljava/util/concurrent/TimeUnit;)J)",
      "  akka.util.Helpers$ConfigOps$.akka$util$Helpers$ConfigOps$$getDuration$extension(Helpers.scala:128)",
      "  akka.util.Helpers$ConfigOps$.getMillisDuration$extension(Helpers.scala:123)",
      "  akka.actor.ActorSystem$Settings.<init>(ActorSystem.scala:171)",
      "  akka.actor.ActorSystemImpl.<init>(ActorSystem.scala:522)",
      "  akka.actor.ActorSystem$.apply(ActorSystem.scala:142)",
      "  akka.actor.ActorSystem$.apply(ActorSystem.scala:119)",
      "  cmd85$$user$ShapesDrawingDriver$.main(Main.scala:45)",
      "  cmd86$$user$$anonfun$1.apply$mcV$sp(Main.scala:25)"
     ]
    }
   ],
   "source": [
    "ShapesDrawingDriver.main()"
   ]
  },
  {
   "cell_type": "code",
   "execution_count": null,
   "metadata": {
    "collapsed": true
   },
   "outputs": [],
   "source": [
    "??"
   ]
  }
 ],
 "metadata": {
  "anaconda-cloud": {},
  "kernelspec": {
   "display_name": "Scala 2.11",
   "language": "scala211",
   "name": "scala211"
  },
  "language_info": {
   "codemirror_mode": "text/x-scala",
   "file_extension": ".scala",
   "mimetype": "text/x-scala",
   "name": "scala211",
   "pygments_lexer": "scala",
   "version": "2.11.8"
  }
 },
 "nbformat": 4,
 "nbformat_minor": 0
}
